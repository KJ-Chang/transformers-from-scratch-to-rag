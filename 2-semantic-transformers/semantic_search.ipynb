{
 "cells": [
  {
   "cell_type": "markdown",
   "id": "49942672",
   "metadata": {},
   "source": [
    "# 語意搜尋實作 (Semantic Search Implementation)\n",
    "\n",
    "本筆記本展示如何使用 Sentence Transformers 和 FAISS 實現高效的語意搜尋。\n",
    "\n",
    "## 實作步驟與說明\n",
    "\n",
    "1. **環境設置**\n",
    "   - 檢查 GPU 可用性\n",
    "   - 設置計算裝置\n",
    "\n",
    "2. **模型準備**\n",
    "   - 載入預訓練的 Sentence Transformer 模型\n",
    "   - 使用輕量級但高效的 all-MiniLM-L6-v2 模型\n",
    "\n",
    "3. **數據處理**\n",
    "   - 載入 MS MARCO 問答數據集\n",
    "   - 提取文檔和查詢數據\n",
    "\n",
    "4. **向量索引**\n",
    "   - 使用 FAISS 建立高效的向量索引\n",
    "   - 支援 GPU 加速搜尋\n",
    "\n",
    "5. **搜尋評估**\n",
    "   - 執行批次搜尋\n",
    "   - 計算處理時間\n",
    "   - 分析搜尋結果"
   ]
  },
  {
   "cell_type": "code",
   "execution_count": 1,
   "id": "4b72b3ab",
   "metadata": {},
   "outputs": [
    {
     "name": "stdout",
     "output_type": "stream",
     "text": [
      "使用的計算裝置: cuda\n"
     ]
    }
   ],
   "source": [
    "# 環境設置：檢查 GPU 可用性並設置計算裝置\n",
    "import torch\n",
    "\n",
    "device = 'cuda' if torch.cuda.is_available() else 'cpu'\n",
    "print(f'使用的計算裝置: {device}')"
   ]
  },
  {
   "cell_type": "code",
   "execution_count": 2,
   "id": "46256f22",
   "metadata": {},
   "outputs": [
    {
     "name": "stdout",
     "output_type": "stream",
     "text": [
      "模型載入完成\n"
     ]
    },
    {
     "data": {
      "text/plain": [
       "SentenceTransformer(\n",
       "  (0): Transformer({'max_seq_length': 256, 'do_lower_case': False}) with Transformer model: BertModel \n",
       "  (1): Pooling({'word_embedding_dimension': 384, 'pooling_mode_cls_token': False, 'pooling_mode_mean_tokens': True, 'pooling_mode_max_tokens': False, 'pooling_mode_mean_sqrt_len_tokens': False, 'pooling_mode_weightedmean_tokens': False, 'pooling_mode_lasttoken': False, 'include_prompt': True})\n",
       "  (2): Normalize()\n",
       ")"
      ]
     },
     "execution_count": 2,
     "metadata": {},
     "output_type": "execute_result"
    }
   ],
   "source": [
    "# 載入預訓練模型\n",
    "# all-MiniLM-L6-v2 是一個輕量級模型，在效能和速度上取得良好平衡\n",
    "from sentence_transformers import SentenceTransformer\n",
    "\n",
    "model_name = 'sentence-transformers/all-MiniLM-L6-v2'\n",
    "model = SentenceTransformer(model_name, device=device)\n",
    "print('模型載入完成')\n",
    "model"
   ]
  },
  {
   "cell_type": "code",
   "execution_count": 3,
   "id": "c467c6a5",
   "metadata": {},
   "outputs": [
    {
     "name": "stdout",
     "output_type": "stream",
     "text": [
      "開始載入數據集...\n",
      "數據準備完成\n",
      "\n",
      "示例文檔:\n",
      "The presence of communication amid scientific minds was equally important to the success of the Manhattan Project as scientific intellect was. The only cloud hanging over the impressive achievement of the atomic researchers and engineers is what their success truly meant; hundreds of thousands of innocent lives obliterated.\n",
      "\n",
      "示例查詢:\n",
      "abeyance legal definition ma\n"
     ]
    }
   ],
   "source": [
    "# 載入並準備數據\n",
    "# MS MARCO 是微軟發布的大規模機器閱讀理解和問答數據集\n",
    "from datasets import load_dataset\n",
    "\n",
    "print('開始載入數據集...')\n",
    "dataset_name = 'ms_marco'\n",
    "dataset = load_dataset(dataset_name, 'v2.1', split='train').select(range(100000))\n",
    "\n",
    "# 整理文檔和查詢數據\n",
    "documents = [\n",
    "    passage_text\n",
    "    for passages in dataset['passages']\n",
    "    for passage_text in passages['passage_text']\n",
    "]\n",
    "\n",
    "queries = dataset['query']\n",
    "\n",
    "# 隨機選擇查詢樣本進行測試\n",
    "NUM_QUERIES = 10000\n",
    "import random\n",
    "random.shuffle(queries)\n",
    "queries = queries[:NUM_QUERIES]\n",
    "\n",
    "print('數據準備完成')\n",
    "print(f'\\n示例文檔:\\n{documents[0]}')\n",
    "print(f'\\n示例查詢:\\n{queries[0]}')"
   ]
  },
  {
   "cell_type": "markdown",
   "id": "168316d3",
   "metadata": {},
   "source": [
    "## FAISS 向量索引與搜尋\n",
    "\n",
    "FAISS (Facebook AI Similarity Search) 是一個高效能的向量索引和搜尋函式庫：\n",
    "\n",
    "- 支援十億級別的向量搜尋\n",
    "- 提供 GPU 加速功能\n",
    "- 實現多種索引算法\n",
    "- 優化的記憶體使用"
   ]
  },
  {
   "cell_type": "code",
   "execution_count": 4,
   "id": "b00dc6e6",
   "metadata": {},
   "outputs": [
    {
     "name": "stdout",
     "output_type": "stream",
     "text": [
      "開始建立向量索引...\n",
      "向量維度: 384\n",
      "索引建立完成\n"
     ]
    }
   ],
   "source": [
    "import faiss\n",
    "\n",
    "print('開始建立向量索引...')\n",
    "# 將文檔轉換為向量表示\n",
    "fs_documents_embedding = model.encode(documents, batch_size=256, convert_to_tensor=True)\n",
    "fs_documents_embedding_np = fs_documents_embedding.cpu().numpy()\n",
    "\n",
    "# 創建 FAISS 索引 (使用 L2 歐氏距離)\n",
    "dimension = fs_documents_embedding.shape[1]\n",
    "index = faiss.IndexFlatL2(dimension)\n",
    "\n",
    "# GPU 加速處理\n",
    "if torch.cuda.is_available():\n",
    "    res = faiss.StandardGpuResources()\n",
    "    gpu_index = faiss.index_cpu_to_gpu(res, 0, index)\n",
    "    index = gpu_index\n",
    "\n",
    "# 添加文檔向量到索引\n",
    "index.add(fs_documents_embedding_np)\n",
    "print(f'向量維度: {dimension}')\n",
    "print('索引建立完成')"
   ]
  },
  {
   "cell_type": "code",
   "execution_count": 5,
   "id": "3f3ffbab",
   "metadata": {},
   "outputs": [
    {
     "name": "stdout",
     "output_type": "stream",
     "text": [
      "開始執行搜尋...\n",
      "\n",
      "搜尋結果示例：\n",
      "\n",
      "查詢 1: abeyance legal definition ma\n",
      "   結果 1\n",
      "\t距離: 0.4080\n",
      "\t文檔: Freebase(0.00 / 0 votes)Rate this definition: Abeyance is a state of expectancy in respect of property, titles or office, when the right to them is not vested in any one person, but awaits the appearance or determination of the true owner.\n",
      "   結果 2\n",
      "\t距離: 0.4314\n",
      "\t文檔: Legal Definition of abeyance. 1  1 : a lapse in the succession of property during which there is no person in whom title to the property is vested —usually used with in the estate was in abeyance.\n",
      "\n",
      "查詢 2: how to listen to offline mode on pandora\n",
      "   結果 1\n",
      "\t距離: 0.3602\n",
      "\t文檔: To avoid using your mobile data, you have the option to manually enable the Offline Listening option. 1  Go to your Station List or the Pandora Home Screen. 2  Tap the Menu icon > Offline Mode. 3  Here you can toggle the Offline Listening feature ON (green).\n",
      "   結果 2\n",
      "\t距離: 0.4026\n",
      "\t文檔: Back To Top. Turn Offline Listening On. To avoid using your mobile data, you have the option to manually enable the Offline Listening option. Go to your Station List or the Pandora Home Screen. Tap the Menu icon > Offline Mode. Here you can toggle the Offline Listening feature ON (green).\n",
      "\n",
      "查詢 3: how to transfer nvme m.2\n",
      "   結果 1\n",
      "\t距離: 0.9725\n",
      "\t文檔: NVMe is a communications interface/protocol developed specially for SSDs by a consortium of vendors including Intel, Samsung, Sandisk, Dell, and Seagate. Like SCSI and SATA, NVMe is designed to take advantage of the unique properties of pipeline-rich, random access, memory-based storage.ote that NVMe via M.2 isn’t 3.3 times faster than SATA. But if you pay the money, you’re going to want your SSD to be all it can be. At least I would. That means an expansion card drive until SFF-8639 connectors show up on consumer PCs.\n",
      "   結果 2\n",
      "\t距離: 0.9947\n",
      "\t文檔: Samsung adding NVMe PCIe technology to M.2 SSDs. The diminutive SM951-NVMe will be the industry's first M.2 solid-state drive to make use of the speedy technology, which will blow away SATA-based SSDs.By Sean Portnoy for Laptops & Desktops |.he performance jump Samsung claims for the SM951-NVMe over SATA-based M.2 SSDs is remarkable.\n",
      "\n",
      "查詢 4: geographical atmosphere definition\n",
      "   結果 1\n",
      "\t距離: 0.5234\n",
      "\t文檔: atmosphere definition: The definition of atmosphere is an overall feeling and/or effect of a place, specially if it is an environment of pleasure or interest. (noun) An example of atmosphere is the creepy feeling one gets whenever they walk past the old...\n",
      "   結果 2\n",
      "\t距離: 0.5554\n",
      "\t文檔: An atmosphere (from Greek ἀτμός (atmos), meaning vapour, and σφαῖρα (sphaira), meaning sphere) is a layer of gases surrounding a planet or other material body, that is held in place by the gravity of that body.\n",
      "\n",
      "查詢 5: bank of tucson routing number\n",
      "   結果 1\n",
      "\t距離: 0.1943\n",
      "\t文檔: Bank Of Tucson Routing Number. 122105676 routing number is a 9-digit number designed and assigned to Bank Of Tucson by The American Bankers Association (ABA) to identify the financial institution upon which a payment was drawn.\n",
      "   結果 2\n",
      "\t距離: 0.2374\n",
      "\t文檔: BANK OF TUCSON ROUTING ABA NUMBER. 122105676 routing number is a 9-digit number designed and assigned to Bank Of Tucson by The American Bankers Association (ABA) to identify the financial institution upon which a payment was drawn.\n"
     ]
    }
   ],
   "source": [
    "import time\n",
    "import util\n",
    "\n",
    "print('開始執行搜尋...')\n",
    "# 將查詢轉換為向量\n",
    "fs_queries_embedding = model.encode(queries, batch_size=256, convert_to_tensor=True)\n",
    "fs_queries_embedding_np = fs_queries_embedding.cpu().numpy()\n",
    "\n",
    "# 設定每個查詢返回的結果數量\n",
    "top_k = 2\n",
    "\n",
    "# 執行批次搜尋並計時\n",
    "start_time = time.time()\n",
    "D, I = util.batch_search(fs_queries_embedding_np, index, top_k, batch_size=8)\n",
    "end_time = time.time()\n",
    "\n",
    "# 顯示部分搜尋結果\n",
    "print('\\n搜尋結果示例：')\n",
    "for i, (dists, idxs) in enumerate(zip(D, I), 1):\n",
    "    print(f'\\n查詢 {i}: {queries[i-1]}')\n",
    "    for j, (dist, idx) in enumerate(zip(dists, idxs), 1):\n",
    "        print(f'   結果 {j}')\n",
    "        print(f'\\t距離: {dist:.4f}')  # 距離越小表示越相似\n",
    "        print(f'\\t文檔: {documents[idx]}')\n",
    "\n",
    "    # 只顯示前 5 個查詢的結果\n",
    "    if i == 5:\n",
    "        break"
   ]
  },
  {
   "cell_type": "markdown",
   "id": "59420670",
   "metadata": {},
   "source": [
    "## 效能分析\n",
    "\n",
    "計算並顯示搜尋效能指標：\n",
    "- 總處理時間\n",
    "- 平均每次查詢時間\n",
    "- GPU 加速效果"
   ]
  },
  {
   "cell_type": "code",
   "execution_count": 6,
   "id": "07f82640",
   "metadata": {},
   "outputs": [
    {
     "name": "stdout",
     "output_type": "stream",
     "text": [
      "搜尋效能統計：\n",
      "總處理時間: 14.00 秒\n",
      "平均每次查詢時間: 1.40 毫秒\n",
      "查詢總數: 10000\n",
      "批次大小: 8\n",
      "使用設備: GPU\n",
      "向量維度: 384\n"
     ]
    }
   ],
   "source": [
    "# 計算效能指標\n",
    "total_time = end_time - start_time\n",
    "avg_time_per_query = total_time / NUM_QUERIES\n",
    "\n",
    "print(f'搜尋效能統計：')\n",
    "print(f'總處理時間: {total_time:.2f} 秒')\n",
    "print(f'平均每次查詢時間: {avg_time_per_query*1000:.2f} 毫秒')\n",
    "print(f'查詢總數: {NUM_QUERIES}')\n",
    "print(f'批次大小: 8')\n",
    "print(f'使用設備: {\"GPU\" if torch.cuda.is_available() else \"CPU\"}')\n",
    "print(f'向量維度: {dimension}')"
   ]
  },
  {
   "cell_type": "code",
   "execution_count": null,
   "id": "e76fe629",
   "metadata": {},
   "outputs": [],
   "source": []
  }
 ],
 "metadata": {
  "kernelspec": {
   "display_name": "llm",
   "language": "python",
   "name": "python3"
  },
  "language_info": {
   "codemirror_mode": {
    "name": "ipython",
    "version": 3
   },
   "file_extension": ".py",
   "mimetype": "text/x-python",
   "name": "python",
   "nbconvert_exporter": "python",
   "pygments_lexer": "ipython3",
   "version": "3.9.21"
  }
 },
 "nbformat": 4,
 "nbformat_minor": 5
}
