{
 "cells": [
  {
   "cell_type": "code",
   "execution_count": 1,
   "id": "466199a3",
   "metadata": {},
   "outputs": [],
   "source": [
    "import requests\n",
    "from bs4 import BeautifulSoup\n",
    "from datasets import load_dataset\n",
    "from customized import CustomRAGPipeline"
   ]
  },
  {
   "cell_type": "markdown",
   "id": "9a60b14e",
   "metadata": {},
   "source": [
    "### 使用 SoundCloud Addresses Terms of Use Allowing AI Training on Uploaded Music 文章"
   ]
  },
  {
   "cell_type": "code",
   "execution_count": 2,
   "id": "f08fabc1",
   "metadata": {},
   "outputs": [
    {
     "data": {
      "application/vnd.jupyter.widget-view+json": {
       "model_id": "90d49879546446ccbaef134053112d48",
       "version_major": 2,
       "version_minor": 0
      },
      "text/plain": [
       "Batches:   0%|          | 0/1 [00:00<?, ?it/s]"
      ]
     },
     "metadata": {},
     "output_type": "display_data"
    },
    {
     "name": "stdout",
     "output_type": "stream",
     "text": [
      "Added 14 documents to the index.\n",
      "==================================================\n",
      "\n",
      "Question1: What clause did SoundCloud add to its terms of use in February 2024 regarding AI?\n",
      "\n",
      "Context1: Earlier this week, an article published in the tech news outlet Futurism drew attention to a previously unidentified clause in SoundCloud’s terms of use, which allows content uploaded to the site to be used as training data for AI.\n",
      "\n",
      "Answer1: allows content uploaded to the site to be used as training data\n",
      "==================================================\n",
      "\n",
      "Question2: Has SoundCloud used artist content to train AI models according to their official statement?\n",
      "\n",
      "Context2: SoundCloud has never used artist content to train AI models, nor do we develop AI tools or allow third parties to scrape or use SoundCloud content from our platform for AI training purposes. In fact, we implemented technical safeguards, including a “no AI” tag on our site to explicitly prohibit unauthorized use.\n",
      "\n",
      "Answer2: never\n",
      "==================================================\n",
      "\n",
      "Question3: What are the intended AI use cases described by SoundCloud?\n",
      "\n",
      "Context3: The February 2024 update to our Terms of Service was intended to clarify how content may interact with AI technologies within SoundCloud’s own platform. Use cases include personalized recommendations, content organization, fraud detection, and improvements to content identification with the help of AI Technologies.\n",
      "\n",
      "Answer3: personalized recommendations , content organization , fraud detection , and improvements to content identification\n"
     ]
    }
   ],
   "source": [
    "url = 'https://pitchfork.com/news/soundcloud-addresses-terms-of-use-allowing-ai-training-on-uploaded-music/'\n",
    "headers = {\n",
    "    'User-Agent': 'Mosilla/5.0'\n",
    "}\n",
    "response = requests.get(url, headers=headers)\n",
    "soup = BeautifulSoup(response.content, 'html.parser')\n",
    "passages =[p.text for p in soup.find_all('p')]\n",
    "# 問題\n",
    "queries = [\n",
    "    'What clause did SoundCloud add to its terms of use in February 2024 regarding AI?',\n",
    "    'Has SoundCloud used artist content to train AI models according to their official statement?',\n",
    "    'What are the intended AI use cases described by SoundCloud?',\n",
    "]\n",
    "\n",
    "rag1 = CustomRAGPipeline(\n",
    "        encoder_model_name='all-MiniLM-L6-v2',\n",
    "        qa_model_name='Raghan/bert-finetuned-squad',\n",
    "        )\n",
    "\n",
    "rag1.add_documents(passages)\n",
    "# retrieved_passages = rag1.search(queries)\n",
    "rag1.answer_questions(queries)"
   ]
  },
  {
   "cell_type": "markdown",
   "id": "af9402f9",
   "metadata": {},
   "source": [
    "### 使用 SQuAD 資料集"
   ]
  },
  {
   "cell_type": "code",
   "execution_count": 3,
   "id": "f07744c6",
   "metadata": {},
   "outputs": [
    {
     "data": {
      "application/vnd.jupyter.widget-view+json": {
       "model_id": "56792c47743c434ca6ebfabcfb7233c8",
       "version_major": 2,
       "version_minor": 0
      },
      "text/plain": [
       "Batches:   0%|          | 0/65 [00:00<?, ?it/s]"
      ]
     },
     "metadata": {},
     "output_type": "display_data"
    },
    {
     "name": "stdout",
     "output_type": "stream",
     "text": [
      "Added 2067 documents to the index.\n",
      "==================================================\n",
      "\n",
      "Question1: How does Newton’s Second Law define mass?\n",
      "\n",
      "Context1: Newton's Second Law asserts the direct proportionality of acceleration to force and the inverse proportionality of acceleration to mass. Accelerations can be defined through kinematic measurements. However, while kinematics are well-described through reference frame analysis in advanced physics, there are still deep questions that remain as to what is the proper definition of mass. General relativity offers an equivalence between space-time and mass, but lacking a coherent theory of quantum gravity, it is unclear as to how or whether this connection is relevant on microscales. With some justification, Newton's second law can be taken as a quantitative definition of mass by writing the law as an equality; the relative units of force and mass then are fixed.\n",
      "\n",
      "Answer1: by writing the law as an equality\n",
      "==================================================\n",
      "\n",
      "Question2: What was the main theme of Martin Luther’s final sermon?\n",
      "\n",
      "Context2: The effect of Luther's intervention was immediate. After the sixth sermon, the Wittenberg jurist Jerome Schurf wrote to the elector: \"Oh, what joy has Dr. Martin's return spread among us! His words, through divine mercy, are bringing back every day misguided people into the way of the truth.\"\n",
      "\n",
      "Answer2: divine mercy , are bringing back every day misguided people into the way of the truth\n",
      "==================================================\n",
      "\n",
      "Question3: Which religion became dominant during the Yuan dynasty under Kublai Khan?\n",
      "\n",
      "Context3: There were many religions practiced during the Yuan dynasty, such as Buddhism, Islam, and Christianity. The establishment of the Yuan dynasty had dramatically increased the number of Muslims in China. However, unlike the western khanates, the Yuan dynasty never converted to Islam. Instead, Kublai Khan, the founder of the Yuan dynasty, favored Buddhism, especially the Tibetan variants. As a result, Tibetan Buddhism was established as the de facto state religion. The top-level department and government agency known as the Bureau of Buddhist and Tibetan Affairs (Xuanzheng Yuan) was set up in Khanbaliq (modern Beijing) to supervise Buddhist monks throughout the empire. Since Kublai Khan only esteemed the Sakya sect of Tibetan Buddhism, other religions became less important. He and his successors kept a Sakya Imperial Preceptor (Dishi) at court. Before the end of the Yuan dynasty, 14 leaders of the Sakya sect had held the post of Imperial Preceptor, thereby enjoying special power. Furthermore, Mongol patronage of Buddhism resulted in a number of monuments of Buddhist art. Mongolian Buddhist translations, almost all from Tibetan originals, began on a large scale after 1300. Many Mongols of the upper class such as the Jalayir and the Oronar nobles as well as the emperors also patronized Confucian scholars and institutions. A considerable number of Confucian and Chinese historical works were translated into the Mongolian language.\n",
      "\n",
      "Answer3: Buddhism\n"
     ]
    }
   ],
   "source": [
    "dataset_name = 'squad'\n",
    "dataset = load_dataset(dataset_name, split='validation')\n",
    "passages = [item['context'] for item in dataset]\n",
    "# 排除相同的context\n",
    "passages = list(set(passages))\n",
    "# \n",
    "queries = [\n",
    "    'How does Newton’s Second Law define mass?',\n",
    "    'What was the main theme of Martin Luther’s final sermon?',\n",
    "    'Which religion became dominant during the Yuan dynasty under Kublai Khan?',\n",
    "]\n",
    "\n",
    "rag2 = CustomRAGPipeline(\n",
    "        encoder_model_name='all-MiniLM-L6-v2',\n",
    "        qa_model_name='Raghan/bert-finetuned-squad',\n",
    "        )\n",
    "\n",
    "rag2.add_documents(passages)\n",
    "# retrieved_passages = rag2.search(queries)\n",
    "rag2.answer_questions(queries)"
   ]
  }
 ],
 "metadata": {
  "kernelspec": {
   "display_name": "llm",
   "language": "python",
   "name": "python3"
  },
  "language_info": {
   "codemirror_mode": {
    "name": "ipython",
    "version": 3
   },
   "file_extension": ".py",
   "mimetype": "text/x-python",
   "name": "python",
   "nbconvert_exporter": "python",
   "pygments_lexer": "ipython3",
   "version": "3.9.21"
  }
 },
 "nbformat": 4,
 "nbformat_minor": 5
}
