{
 "cells": [
  {
   "cell_type": "markdown",
   "id": "a73ed71e",
   "metadata": {},
   "source": [
    "# RAG Pipeline 比較實驗\n",
    "\n",
    "這個筆記本展示了使用不同生成模型（T5 和 GPT）的 RAG pipeline 的比較。"
   ]
  },
  {
   "cell_type": "code",
   "execution_count": 1,
   "id": "d43442a5",
   "metadata": {},
   "outputs": [],
   "source": [
    "import yaml\n",
    "from customized import run_rag_pipeline_t5, run_rag_pipeline_gpt, load_config\n",
    "from util import scrape_and_chunk_website"
   ]
  },
  {
   "cell_type": "markdown",
   "id": "e35ab6ad",
   "metadata": {},
   "source": [
    "## 載入配置文件"
   ]
  },
  {
   "cell_type": "code",
   "execution_count": 2,
   "id": "a4af110a",
   "metadata": {},
   "outputs": [
    {
     "name": "stdout",
     "output_type": "stream",
     "text": [
      "Loaded configuration:\n",
      "\n",
      "Generation parameters:\n",
      "do_sample: true\n",
      "early_stopping: true\n",
      "length_penalty: 1.0\n",
      "max_new_tokens: 128\n",
      "min_length: 20\n",
      "no_repeat_ngram_size: 3\n",
      "num_beams: 3\n",
      "repetition_penalty: 1.2\n",
      "temperature: 0.7\n",
      "top_p: 0.9\n",
      "\n"
     ]
    }
   ],
   "source": [
    "config = load_config()\n",
    "print('Loaded configuration:')\n",
    "print('\\nGeneration parameters:')\n",
    "print(yaml.dump(config['generation'], default_flow_style=False))"
   ]
  },
  {
   "cell_type": "markdown",
   "id": "b3b90b95",
   "metadata": {},
   "source": [
    "## 準備數據\n",
    "\n",
    "從 RoyalTek 網站抓取數據進行測試"
   ]
  },
  {
   "cell_type": "code",
   "execution_count": 3,
   "id": "aae13405",
   "metadata": {},
   "outputs": [
    {
     "name": "stdout",
     "output_type": "stream",
     "text": [
      "Retrieved 29 text passages\n"
     ]
    }
   ],
   "source": [
    "urls = [\n",
    "    'https://www.royaltek.com/about/whoweare/',\n",
    "    'https://www.royaltek.com/about/services/',\n",
    "    'https://www.royaltek.com/about/thecompany/'\n",
    "]\n",
    "\n",
    "passages = scrape_and_chunk_website(urls, 300, 35)\n",
    "print(f'Retrieved {len(passages)} text passages')"
   ]
  },
  {
   "cell_type": "markdown",
   "id": "7764b7bb",
   "metadata": {},
   "source": [
    "## 準備測試問題"
   ]
  },
  {
   "cell_type": "code",
   "execution_count": 4,
   "id": "e372b276",
   "metadata": {},
   "outputs": [],
   "source": [
    "queries = [\n",
    "    'What products does Royaltek offer?',\n",
    "    'In what year was RoyalTek founded?',\n",
    "    'What types of products does RoyalTek offer for the automotive industry?',\n",
    "    'How has RoyalTek benefited from being part of Quanta Inc. since 2006?',\n",
    "    'What is RoyalTek\\'s approach to customer service and product delivery?',\n",
    "    'What technologies does RoyalTek integrate into their solutions for location awareness and vehicle safety?'\n",
    "]"
   ]
  },
  {
   "cell_type": "markdown",
   "id": "1df6b593",
   "metadata": {},
   "source": [
    "## 運行 T5 Pipeline"
   ]
  },
  {
   "cell_type": "code",
   "execution_count": 5,
   "id": "3866dee3",
   "metadata": {},
   "outputs": [
    {
     "name": "stderr",
     "output_type": "stream",
     "text": [
      "You are using the default legacy behaviour of the <class 'transformers.models.t5.tokenization_t5.T5Tokenizer'>. This is expected, and simply means that the `legacy` (previous) behavior will be used so nothing changes for you. If you want to use the new behaviour, set `legacy=False`. This should only be set if you understand what it means, and thoroughly read the reason why this was added as explained in https://github.com/huggingface/transformers/pull/24565\n"
     ]
    },
    {
     "name": "stdout",
     "output_type": "stream",
     "text": [
      "\n",
      "==================================================\n",
      "Starting T5 Pipeline\n",
      "Encoder: all-MiniLM-L6-v2\n",
      "Generator: google/flan-t5-large\n",
      "==================================================\n",
      "\n"
     ]
    },
    {
     "data": {
      "application/vnd.jupyter.widget-view+json": {
       "model_id": "3b996522094a4a90862cf9e7a5987b93",
       "version_major": 2,
       "version_minor": 0
      },
      "text/plain": [
       "Batches:   0%|          | 0/1 [00:00<?, ?it/s]"
      ]
     },
     "metadata": {},
     "output_type": "display_data"
    },
    {
     "name": "stdout",
     "output_type": "stream",
     "text": [
      "Added 29 documents to the index.\n",
      "\n",
      "Question: What products does Royaltek offer?\n",
      "Answer: satellite positioning and wireless communication technology, with a focus on providing advanced solutions for location awareness, automotive radar.\n",
      "\n",
      "Question: In what year was RoyalTek founded?\n",
      "Answer: 1997, we have established a of the societies. With such strong determination and ambition, RoyalTek is confident\n",
      "\n",
      "Question: What types of products does RoyalTek offer for the automotive industry?\n",
      "Answer: Internet of Vehicle (IOV), Advanced Driving Assistance System (ADAS) solution, automotive radar and cloud technology.\n",
      "\n",
      "Question: How has RoyalTek benefited from being part of Quanta Inc. since 2006?\n",
      "Answer: access to top-down integration of technology with manufacturing facilities in Taiwan and Shanghai. Our product range includes Audio Video Navigation System (AVN), Portable Navigation Device\n",
      "\n",
      "Question: What is RoyalTek's approach to customer service and product delivery?\n",
      "Answer: Our product delivery process is efficient and reliable, ensuring that our customers receive their orders on time and in excellent condition.\n",
      "\n",
      "Question: What technologies does RoyalTek integrate into their solutions for location awareness and vehicle safety?\n",
      "Answer: Artificial Intelligence of Things (AIoT) and cloud technology, RoyalTek focuses on the researchof products related to Internet of Vehicle (IOV), Advanced Driving Assistance System (ADAS) solution, automotive radar and other devices\n"
     ]
    }
   ],
   "source": [
    "for i, answer in enumerate(run_rag_pipeline_t5(passages, queries)):\n",
    "    print(f'\\nQuestion: {queries[i]}')\n",
    "    print(f'Answer: {answer}')"
   ]
  },
  {
   "cell_type": "markdown",
   "id": "0f1105f5",
   "metadata": {},
   "source": [
    "## 運行 GPT (Falcon) Pipeline"
   ]
  },
  {
   "cell_type": "code",
   "execution_count": 6,
   "id": "f07744c6",
   "metadata": {},
   "outputs": [
    {
     "data": {
      "application/vnd.jupyter.widget-view+json": {
       "model_id": "34abfa20c14c4ac98a584ad3e9cdf2de",
       "version_major": 2,
       "version_minor": 0
      },
      "text/plain": [
       "Loading checkpoint shards:   0%|          | 0/2 [00:00<?, ?it/s]"
      ]
     },
     "metadata": {},
     "output_type": "display_data"
    },
    {
     "name": "stdout",
     "output_type": "stream",
     "text": [
      "\n",
      "==================================================\n",
      "Starting GPT (Falcon-7B) Pipeline\n",
      "Encoder: all-mpnet-base-v2\n",
      "Generator: tiiuae/falcon-7b-instruct\n",
      "==================================================\n",
      "\n"
     ]
    },
    {
     "data": {
      "application/vnd.jupyter.widget-view+json": {
       "model_id": "c5f8b77258674b43bd3d80b2d765743f",
       "version_major": 2,
       "version_minor": 0
      },
      "text/plain": [
       "Batches:   0%|          | 0/1 [00:00<?, ?it/s]"
      ]
     },
     "metadata": {},
     "output_type": "display_data"
    },
    {
     "name": "stdout",
     "output_type": "stream",
     "text": [
      "Added 29 documents to the index.\n",
      "\n",
      "Question: What products does Royaltek offer?\n",
      "Answer:  Royaltek offers a wide range of products, including GPS navigation systems, wireless communication devices, and automotive radar systems. These products are designed to meet the needs of both consumers and businesses.\n",
      "\n",
      "Question: In what year was RoyalTek founded?\n",
      "Answer: \n",
      "1997\n",
      "\n",
      "Question: What types of products does RoyalTek offer for the automotive industry?\n",
      "Answer: \n",
      "Royaltek offers a wide range of products for the Automotive industry, including:\n",
      "\n",
      "- Automotive Radar\n",
      "- Blind Spot Detection System\n",
      "- Lane Departure Warning System \n",
      "- Automatic Emergency Braking\n",
      "- Adaptive Cruise Control\n",
      "- Driver Assistance System\n",
      "\n",
      "These products are designed to enhance the driving experience and improve safety on the road.\n",
      "\n",
      "Question: How has RoyalTek benefited from being part of Quanta Inc. since 2006?\n",
      "Answer: \n",
      "Since joining Quanta, Royaltek has been able to expand its product range, improve its manufacturing capabilities, and increase its global reach. Quanta has provided Royaltek with access to a wide range of resources, including advanced manufacturing equipment, supply chain expertise, and\n",
      "technical support. This has allowed Royaltek to increase its efficiency and reduce its costs, while also helping it to stay ahead of the competition. Additionally Quanta's vast experience in the electronics industry has allowed them to help Royaltek innovate and develop new products, which has been a key\n",
      "factor in their success.\n",
      "\n",
      "Question: What is RoyalTek's approach to customer service and product delivery?\n",
      "Answer: \n",
      "\n",
      "Royaltek's customer service approach is based on the principle of \"customer first\". The company strives to provide the best possible service to its customers, focusing on meeting their needs and expectations. In terms of product delivery, Royaltek places a strong emphasis on quality and reliability. The company works closely with its suppliers and partners to ensure that its products are of the highest quality and meet its customers' expectations. Additionally\n",
      "\n",
      "Question: What technologies does RoyalTek integrate into their solutions for location awareness and vehicle safety?\n",
      "Answer: \n",
      "Royaltek integrates technologies such as GPS, LBS, Radar, AI, and Cloud Computing to provide location-aware and vehicle-safe solutions for their customers.\n"
     ]
    }
   ],
   "source": [
    "for i, answer in enumerate(run_rag_pipeline_gpt(passages, queries)):\n",
    "    print(f'\\nQuestion: {queries[i]}')\n",
    "    print(f'Answer: {answer}')"
   ]
  }
 ],
 "metadata": {
  "kernelspec": {
   "display_name": "llm",
   "language": "python",
   "name": "python3"
  },
  "language_info": {
   "codemirror_mode": {
    "name": "ipython",
    "version": 3
   },
   "file_extension": ".py",
   "mimetype": "text/x-python",
   "name": "python",
   "nbconvert_exporter": "python",
   "pygments_lexer": "ipython3",
   "version": "3.9.21"
  }
 },
 "nbformat": 4,
 "nbformat_minor": 5
}
